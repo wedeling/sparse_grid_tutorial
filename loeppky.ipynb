{
 "cells": [
  {
   "cell_type": "markdown",
   "id": "f32c316e",
   "metadata": {},
   "source": [
    "# Loeppky (2013) test function\n",
    "\n",
    "We perform adaptive sampling on the Loeppky (2013) test function [1]:\n",
    "\n",
    "$f({\\bf x}) = 6x_1 + 4x_2 + 5.5x_3 + 3x_1x_2 + 2.2x_1x_2 + 1.4x_2x_3 + x_4+ 0.5x_5 + 0.2x_6 + 0.1x_7$\n",
    "\n",
    "[1] Loeppky, J. L., Williams, B. J., & Moore, L. M. (2013). Global sensitivity analysis for mixture experiments. Technometrics, 55(1), 68-78.\n",
    "\n",
    "Description, quoted from www.sfu.ca/~ssurjano/loepetal13.html:\n",
    "\n",
    "**Dimensions: 10**\n",
    "\n",
    "\"*This function is designed for sensitivity analysis, such that the first three input variables are highly sensitive, and the last three are insensitive, while the rest are moderately sensitive (Loeppky et al., 2013). For this reason, the last three input variables do not appear in the expression.*\"\n",
    "\n",
    "All 10 inputs are uniformly distributed: $x_i\\sim\\mathcal{U}[0, 1]$, $i=1\\cdots,10$.\n",
    "\n",
    "Author: Wouter Edeling, CWI Scientific Computing Group (Wouter.Edeling@CWI.nl)\n",
    "\n",
    "## Installation\n",
    "\n",
    "* EasyVVUQ: via git clone or by executing the command below\n"
   ]
  },
  {
   "cell_type": "code",
   "execution_count": 1,
   "id": "4e0169e2",
   "metadata": {},
   "outputs": [],
   "source": [
    "#!pip install easyvvuq"
   ]
  },
  {
   "cell_type": "code",
   "execution_count": 2,
   "id": "d10fca6d",
   "metadata": {},
   "outputs": [],
   "source": [
    "import os\n",
    "import numpy as np\n",
    "import easyvvuq as uq\n",
    "import chaospy as cp\n",
    "import matplotlib.pyplot as plt\n",
    "from easyvvuq.actions import CreateRunDirectory, Encode, Decode, ExecuteLocal, Actions"
   ]
  },
  {
   "cell_type": "markdown",
   "id": "fbdcc8d6",
   "metadata": {},
   "source": [
    "### Setting up an EasyVVUQ campaign\n",
    "\n",
    "We first set up the `params` dictionary, in which we specify the name, type and default value of each input:"
   ]
  },
  {
   "cell_type": "code",
   "execution_count": 3,
   "id": "afb54dda",
   "metadata": {},
   "outputs": [
    {
     "data": {
      "text/plain": [
       "{'x1': {'type': 'float', 'default': 0.5},\n",
       " 'x2': {'type': 'float', 'default': 0.5},\n",
       " 'x3': {'type': 'float', 'default': 0.5},\n",
       " 'x4': {'type': 'float', 'default': 0.5},\n",
       " 'x5': {'type': 'float', 'default': 0.5},\n",
       " 'x6': {'type': 'float', 'default': 0.5},\n",
       " 'x7': {'type': 'float', 'default': 0.5},\n",
       " 'x8': {'type': 'float', 'default': 0.5},\n",
       " 'x9': {'type': 'float', 'default': 0.5},\n",
       " 'x10': {'type': 'float', 'default': 0.5}}"
      ]
     },
     "execution_count": 3,
     "metadata": {},
     "output_type": "execute_result"
    }
   ],
   "source": [
    "# number of inputs\n",
    "d = 10\n",
    "\n",
    "# params dict\n",
    "params = {}\n",
    "for i in range(d):\n",
    "    params['x%d' % (i + 1)] = {'type': 'float', 'default': 0.5}\n",
    "\n",
    "params"
   ]
  },
  {
   "cell_type": "markdown",
   "id": "c5a77274",
   "metadata": {},
   "source": [
    "Next we'll set up the **encoder**, which will create the input files for the model using an input template. In this case the input file is just a comma-separated file of values. To create an EasyVVUQ input template each value is replaced by `$param_name`:\n",
    "\n",
    "`$x1,$x2,$x3,$x4,$x5,$x6,$x7,$x8,$x9,$x10`\n",
    "\n",
    "The encoder will swap out the `$param_name` flags for values drawn from the specified input distribution."
   ]
  },
  {
   "cell_type": "code",
   "execution_count": 4,
   "id": "f234a572",
   "metadata": {},
   "outputs": [],
   "source": [
    "# input file encoder\n",
    "encoder = uq.encoders.GenericEncoder(template_fname='loeppky.template', delimiter='$', target_filename='input.csv')"
   ]
  },
  {
   "cell_type": "markdown",
   "id": "2cd7bb05",
   "metadata": {},
   "source": [
    "The model writes a CSV file `output.csv` containing the prediction $f({\\bf x})$. The **decoder** will read this file and store its contents within the EasyVVUQ database. "
   ]
  },
  {
   "cell_type": "code",
   "execution_count": 5,
   "id": "72de9ade",
   "metadata": {},
   "outputs": [],
   "source": [
    "# Quantity of Interest, also the column name of the output CSV file\n",
    "QOI = 'f'\n",
    "# CSV output file decoder\n",
    "decoder = uq.decoders.SimpleCSV(target_filename='output.csv', output_columns=[QOI])"
   ]
  },
  {
   "cell_type": "markdown",
   "id": "e3accd88",
   "metadata": {},
   "source": [
    "We'll run the ensemble locally. However, in many cases of practical interest the model will be too expensive for local execution. In this case the VECMA tools [QCG-PilotJob](https://github.com/vecma-project/QCG-PilotJob) or [FabSim3](https://github.com/djgroen/FabSim3) can be used in combination with EasyVVUQ to submit the ensemble to HPC resources."
   ]
  },
  {
   "cell_type": "code",
   "execution_count": 6,
   "id": "19e27086",
   "metadata": {},
   "outputs": [],
   "source": [
    "# local execution of HIV_model.py\n",
    "execute = ExecuteLocal('{}/loeppky.py'.format(os.getcwd()))"
   ]
  },
  {
   "cell_type": "markdown",
   "id": "c2285b4f",
   "metadata": {},
   "source": [
    "Now we are combine all actions we want to execute into an `Actions` object."
   ]
  },
  {
   "cell_type": "code",
   "execution_count": 7,
   "id": "8f8936be",
   "metadata": {},
   "outputs": [],
   "source": [
    "# location where the run directories are stored\n",
    "WORK_DIR = '/tmp'\n",
    "# actions to be undertaken: make rundirs, encode input files, execute local model ensemble, decode output files\n",
    "actions = Actions(CreateRunDirectory(root=WORK_DIR, flatten=True), Encode(encoder), execute, \n",
    "                  Decode(decoder))"
   ]
  },
  {
   "cell_type": "markdown",
   "id": "18e27825",
   "metadata": {},
   "source": [
    "The central object in the UQ analysis is a so-called Campaign. This is created as:"
   ]
  },
  {
   "cell_type": "code",
   "execution_count": 8,
   "id": "ea43f6f4",
   "metadata": {},
   "outputs": [],
   "source": [
    "campaign = uq.Campaign(name='loeppky', params=params, actions=actions, work_dir=WORK_DIR)"
   ]
  },
  {
   "cell_type": "markdown",
   "id": "d2f0db61",
   "metadata": {},
   "source": [
    "We do redefine `vary`, as we will include all `D` inputs in the uncertainty analysis this time."
   ]
  },
  {
   "cell_type": "code",
   "execution_count": 9,
   "id": "deb0a29e",
   "metadata": {},
   "outputs": [],
   "source": [
    "vary = {}\n",
    "for i in range(d):\n",
    "    vary['x%d' % (i + 1)] = cp.Uniform(0, 1)"
   ]
  },
  {
   "cell_type": "markdown",
   "id": "c6efd9dd",
   "metadata": {},
   "source": [
    "We now select the adaptive Stochastic Collocation sampler. Here\n",
    "\n",
    "* `polynomial_order = 1`: should be interpreted in the sparse context as starting the sampling plan with a level 1 quadrature rule for all inputs.\n",
    "* `quadrature_rule='C'`: selects the Clenshaw Curtis quadrature rule.\n",
    "* `sparse=True`: selects the sparse grid.\n",
    "* `growth=True`: selects an exponential growth rule which makes the Clenshaw Curtis rule nested.\n",
    "* `dimension_adaptive=True`: selects the dimension-adaptive sampler."
   ]
  },
  {
   "cell_type": "code",
   "execution_count": 10,
   "id": "d50b559b",
   "metadata": {},
   "outputs": [],
   "source": [
    "sampler = uq.sampling.SCSampler(vary=vary, polynomial_order=1, quadrature_rule='C', sparse=True,\n",
    "                                growth=True, dimension_adaptive=True)\n",
    "campaign.set_sampler(sampler)"
   ]
  },
  {
   "cell_type": "markdown",
   "id": "c53c3b93",
   "metadata": {},
   "source": [
    "Run the first ensemble, which consists of just a single sample:"
   ]
  },
  {
   "cell_type": "code",
   "execution_count": 11,
   "id": "a395d8e1",
   "metadata": {},
   "outputs": [
    {
     "name": "stderr",
     "output_type": "stream",
     "text": [
      "100%|████████████████████████████████████████████████████████████████████████████████████████████████████████████████████████████████████████████████████████████████████████| 1/1 [00:00<00:00,  4.32it/s]\n"
     ]
    }
   ],
   "source": [
    "campaign.execute().collate(progress_bar=True)\n"
   ]
  },
  {
   "cell_type": "markdown",
   "id": "d9ed3727",
   "metadata": {},
   "source": [
    "To analyse the results (and execute the dimension adaptivity), we need an `SCAnalysis` object:"
   ]
  },
  {
   "cell_type": "code",
   "execution_count": 12,
   "id": "ab41ab91",
   "metadata": {},
   "outputs": [
    {
     "name": "stderr",
     "output_type": "stream",
     "text": [
      "/home/wouter/.local/lib/python3.7/site-packages/easyvvuq-1.1.2-py3.7.egg/easyvvuq/analysis/sc_analysis.py:1118: RuntimeWarning: invalid value encountered in true_divide\n",
      "  S_u[u] = D_u[u] / D\n"
     ]
    }
   ],
   "source": [
    "analysis = uq.analysis.SCAnalysis(sampler=sampler, qoi_cols=[QOI])\n",
    "# perform analysis (basically estimates moments, Sobol analysis, and updates internal state of analysis)\n",
    "campaign.apply_analysis(analysis)"
   ]
  },
  {
   "cell_type": "markdown",
   "id": "4b89bab7",
   "metadata": {},
   "source": [
    "Now we'll refine the grid several times in an anisotropic fashion. Here\n",
    "\n",
    "* `look_ahead`: determines the new admissible candidate refinements.\n",
    "* `campaign.get_collation_result()`: get the data frame with all code samples.\n",
    "* `adapt_dimension`: compute the hierarchical surplus at all candidate refinements, and accept the one with the highest surplus."
   ]
  },
  {
   "cell_type": "code",
   "execution_count": 13,
   "id": "a5ad8e3d",
   "metadata": {},
   "outputs": [
    {
     "name": "stderr",
     "output_type": "stream",
     "text": [
      "100%|██████████████████████████████████████████████████████████████████████████████████████████████████████████████████████████████████████████████████████████████████████| 20/20 [00:00<00:00, 24.12it/s]\n",
      "100%|████████████████████████████████████████████████████████████████████████████████████████████████████████████████████████████████████████████████████████████████████████| 2/2 [00:00<00:00,  7.94it/s]\n",
      "100%|████████████████████████████████████████████████████████████████████████████████████████████████████████████████████████████████████████████████████████████████████████| 6/6 [00:00<00:00, 15.69it/s]\n",
      "100%|██████████████████████████████████████████████████████████████████████████████████████████████████████████████████████████████████████████████████████████████████████| 10/10 [00:00<00:00, 16.80it/s]\n",
      "0it [00:00, ?it/s]\n",
      "0it [00:00, ?it/s]\n",
      "100%|██████████████████████████████████████████████████████████████████████████████████████████████████████████████████████████████████████████████████████████████████████| 14/14 [00:00<00:00, 20.64it/s]\n",
      "100%|████████████████████████████████████████████████████████████████████████████████████████████████████████████████████████████████████████████████████████████████████████| 8/8 [00:00<00:00, 15.42it/s]\n",
      "100%|██████████████████████████████████████████████████████████████████████████████████████████████████████████████████████████████████████████████████████████████████████| 18/18 [00:00<00:00, 21.42it/s]\n",
      "100%|██████████████████████████████████████████████████████████████████████████████████████████████████████████████████████████████████████████████████████████████████████| 22/22 [00:00<00:00, 23.40it/s]\n",
      "100%|██████████████████████████████████████████████████████████████████████████████████████████████████████████████████████████████████████████████████████████████████████| 26/26 [00:00<00:00, 27.04it/s]\n"
     ]
    }
   ],
   "source": [
    "number_of_adaptations = 11\n",
    "for i in range(number_of_adaptations):\n",
    "    # compute candidate refinements\n",
    "    sampler.look_ahead(analysis.l_norm)\n",
    "    # run ensemble (at new locations only)\n",
    "    campaign.execute().collate(progress_bar=True)\n",
    "    # get data frame\n",
    "    data_frame = campaign.get_collation_result()\n",
    "    # adapt the sampling plan\n",
    "    analysis.adapt_dimension(QOI, data_frame)\n",
    "    # we must apply the analysis to update its internal state\n",
    "    campaign.apply_analysis(analysis)"
   ]
  },
  {
   "cell_type": "markdown",
   "id": "0edcca32",
   "metadata": {},
   "source": [
    "This command retrieves the result after all refinements:"
   ]
  },
  {
   "cell_type": "code",
   "execution_count": 14,
   "id": "92b99d58",
   "metadata": {},
   "outputs": [],
   "source": [
    "results = campaign.get_last_analysis()"
   ]
  },
  {
   "cell_type": "markdown",
   "id": "a9714555",
   "metadata": {},
   "source": [
    "The `adaptation_table` shows a plot of that visualizes which inputs got refined."
   ]
  },
  {
   "cell_type": "code",
   "execution_count": 15,
   "id": "42802291",
   "metadata": {},
   "outputs": [
    {
     "data": {
      "image/png": "[encoded data removed]",
      "text/plain": [
       "<Figure size 1200x600 with 2 Axes>"
      ]
     },
     "metadata": {},
     "output_type": "display_data"
    }
   ],
   "source": [
    "with plt.xkcd():\n",
    "    analysis.adaptation_table()"
   ]
  },
  {
   "cell_type": "markdown",
   "id": "bb8295d4",
   "metadata": {},
   "source": [
    "Since we are dealing with a polynomial test function, the SC approximation should be exact after sufficient iterations. In this case this happens after 10 iterations, and iteration 11 shown above does not improve the surrogate model further. This case be seen by examining the hierarchical surplus error values that were used to accept the multi indices into $\\Lambda$. Note that the last two errors are essentially zero:"
   ]
  },
  {
   "cell_type": "code",
   "execution_count": 16,
   "id": "35c8c38e",
   "metadata": {},
   "outputs": [
    {
     "name": "stdout",
     "output_type": "stream",
     "text": [
      "[4.3, 3.6500000000000004, 3.1, 0.7500000000000001, 0.5499999999999993, 0.5, 0.34999999999999953, 0.25, 0.09999999999999964, 0.04999999999999982, 7.549516567451064e-15]\n"
     ]
    }
   ],
   "source": [
    "print(analysis.get_adaptation_errors())"
   ]
  },
  {
   "cell_type": "code",
   "execution_count": 17,
   "id": "6f0857db",
   "metadata": {},
   "outputs": [],
   "source": [
    "def loeppky(x):\n",
    "    x1 = x[0]\n",
    "    x2 = x[1]\n",
    "    x3 = x[2]\n",
    "    x4 = x[3]\n",
    "    x5 = x[4]\n",
    "    x6 = x[5]\n",
    "    x7 = x[6]\n",
    "\n",
    "    term1 = 6*x1 + 4*x2\n",
    "    term2 = 5.5*x3 + 3*x1*x2\n",
    "    term3 = 2.2*x1*x3 + 1.4*x2*x3\n",
    "    term4 = x4 + 0.5*x5\n",
    "    term5 = 0.2*x6 + 0.1*x7\n",
    "\n",
    "    return term1 + term2 + term3 + term4 + term5"
   ]
  },
  {
   "cell_type": "code",
   "execution_count": 18,
   "id": "9f49f441",
   "metadata": {},
   "outputs": [],
   "source": [
    "def get_confidence_intervals(samples, conf=0.9):\n",
    "    \"\"\"\n",
    "    Compute the confidence intervals given an array of samples\n",
    "\n",
    "    Parameters\n",
    "    ----------\n",
    "    samples : array\n",
    "        Samples on which to compute the intervals.\n",
    "    conf : float, optional, must be in [0, 1].\n",
    "        The confidence interval percentage. The default is 0.9.\n",
    "\n",
    "    Returns\n",
    "    -------\n",
    "    lower : array\n",
    "        The lower confidence bound..\n",
    "    upper : array\n",
    "        The upper confidence bound.\n",
    "\n",
    "    \"\"\"\n",
    "\n",
    "    # ake sure conf is in [0, 1]\n",
    "    if conf < 0.0 or conf > 1.0:\n",
    "        print('conf must be specified within [0, 1]')\n",
    "        return\n",
    "\n",
    "    # lower bound = alpha, upper bound = 1 - alpha\n",
    "    alpha = 0.5 * (1.0 - conf)\n",
    "\n",
    "    # arrays for lower and upper bound of the interval\n",
    "    n_samples = samples.shape[0]\n",
    "    N_qoi = samples.shape[1]\n",
    "    lower = np.zeros(N_qoi)\n",
    "    upper = np.zeros(N_qoi)\n",
    "\n",
    "    # the probabilities of the ecdf\n",
    "    prob = np.linspace(0, 1, n_samples)\n",
    "    # the closest locations in prob that correspond to the interval bounds\n",
    "    idx0 = np.where(prob <= alpha)[0][-1]\n",
    "    idx1 = np.where(prob <= 1.0 - alpha)[0][-1]\n",
    "\n",
    "    # for every location of qoi compute the ecdf-based confidence interval\n",
    "    for i in range(N_qoi):\n",
    "        # the sorted surrogate samples at the current location\n",
    "        samples_sorted = np.sort(samples[:, i])\n",
    "        # the corresponding confidence interval\n",
    "        lower[i] = samples_sorted[idx0]\n",
    "        upper[i] = samples_sorted[idx1]\n",
    "\n",
    "    return lower, upper"
   ]
  },
  {
   "cell_type": "code",
   "execution_count": 19,
   "id": "7eb819dd",
   "metadata": {},
   "outputs": [],
   "source": [
    "n_mc = [10, 100, 1000, 10000]\n",
    "n_replica = 100\n",
    "mean_mc = np.zeros([len(n_mc), n_replica])\n",
    "std_mc = np.zeros([len(n_mc), n_replica])\n",
    "\n",
    "mean_SC = results.describe(QOI, 'mean')\n",
    "std_SC = results.describe(QOI, 'std')\n",
    "\n",
    "for idx, n_samples in enumerate(n_mc):\n",
    "    for replica in range(n_replica):\n",
    "        inputs = np.array([param.sample(n_samples) for param in vary.values()])\n",
    "        samples = loeppky(inputs)\n",
    "        mean_mc[idx, replica] = np.mean(samples)\n",
    "        std_mc[idx, replica] = np.std(samples)\n",
    "\n",
    "lower, upper = get_confidence_intervals(mean_mc.T)\n",
    "yerr_mean = np.array([np.mean(mean_mc, axis=1) - lower, upper - np.mean(mean_mc, axis=1)])\n",
    "\n",
    "lower, upper = get_confidence_intervals(std_mc.T)\n",
    "yerr_std = np.array([np.mean(std_mc, axis=1) - lower, upper - np.mean(std_mc, axis=1)])\n",
    "\n",
    "with plt.xkcd():\n",
    "    fig = plt.figure(figsize=[8,4])\n",
    "    ax = fig.add_subplot(121, xscale='log', xlabel='model evaluations', ylabel='mean')\n",
    "    ax.errorbar(n_mc, np.mean(mean_mc, axis=1), yerr=yerr_mean, fmt='o', label='MC with 90% CI')\n",
    "    ax.plot(np.cumsum(sampler.n_new_points), analysis.mean_history, '*', color='salmon', zorder=3, label='SC')\n",
    "    plt.legend(frameon=False)\n",
    "\n",
    "    ax = fig.add_subplot(122, xscale='log', xlabel='model evaluations', ylabel='standard deviation')\n",
    "    ax.errorbar(n_mc, np.mean(std_mc, axis=1), yerr=yerr_std, fmt='o')\n",
    "    ax.plot(np.cumsum(sampler.n_new_points), analysis.std_history, '*', color='salmon', zorder=3)\n",
    "    plt.tight_layout()"
   ]
  },
  {
   "cell_type": "markdown",
   "id": "1d9b9e61",
   "metadata": {},
   "source": [
    "Finally, we will create a plot with all first-order Sobol indices `S_i`, which shows the fraction of the output variance, that each input variable is responsible for *by itself*. To also estimate higher-order effects (the fraction of variance obtained by simultaneously varying 2 or more inputs together), we sum all first-order indices (shown in the first bar). Where this sum is close to one, there are (almost) no higher-order effects."
   ]
  },
  {
   "cell_type": "code",
   "execution_count": 20,
   "id": "858f83c0",
   "metadata": {},
   "outputs": [],
   "source": [
    "with plt.xkcd():\n",
    "    fig = plt.figure()\n",
    "    ax = fig.add_subplot(111, title=r'First-order Sobol indices', ylim=[0,1])\n",
    "    ax.set_ylabel(r'$S_i$', fontsize=14)\n",
    "    sobols_first = np.array(list(results.sobols_first(QOI).values()))\n",
    "    ax.bar(0, np.sum(sobols_first), color='salmon')\n",
    "    ax.bar(np.arange(1, d+1), sobols_first.flatten(), color='dodgerblue')\n",
    "    labels = ['total first order']\n",
    "    for i in range(d): labels.append('x%d' % (i+1))\n",
    "    ax.set_xticks(np.arange(d+1))\n",
    "    ax.set_xticklabels(labels, rotation=90)"
   ]
  },
  {
   "cell_type": "code",
   "execution_count": null,
   "id": "2c4985ac",
   "metadata": {},
   "outputs": [],
   "source": []
  }
 ],
 "metadata": {
  "kernelspec": {
   "display_name": "Python 3 (ipykernel)",
   "language": "python",
   "name": "python3"
  },
  "language_info": {
   "codemirror_mode": {
    "name": "ipython",
    "version": 3
   },
   "file_extension": ".py",
   "mimetype": "text/x-python",
   "name": "python",
   "nbconvert_exporter": "python",
   "pygments_lexer": "ipython3",
   "version": "3.7.7"
  }
 },
 "nbformat": 4,
 "nbformat_minor": 5
}
